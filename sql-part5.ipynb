{
    "metadata": {
        "kernelspec": {
            "name": "SQL",
            "display_name": "SQL",
            "language": "sql"
        },
        "language_info": {
            "name": "sql",
            "version": ""
        }
    },
    "nbformat_minor": 2,
    "nbformat": 4,
    "cells": [
        {
            "cell_type": "markdown",
            "source": [
                "# Exercises: Creating, Updating, and Destroying Objects\n",
                "\n",
                "For the exercises, you will be working with objects and data you create. Before opening this notebook, make sure that you have set up the new connection to the server and that you have located the database and your schema.\n",
                "\n",
                "## Object Creation\n",
                "\n",
                "Before coding, think of three things you want to make. These could be coding projects, new recipes, or planned projects for a woodworking hobby. Brainstorm the appropriate column names and data types as well.\n",
                "\n",
                "Create a table under your schema called `planned_makes`."
            ],
            "metadata": {
                "azdata_cell_guid": "9d51c166-0c19-4f27-a422-2a6cf596bfb2"
            },
            "attachments": {}
        },
        {
            "cell_type": "code",
            "source": [
                "CREATE TABLE JunkDB_STL_May2023.haritha.planned_makes\r\n",
                "(id INT PRIMARY KEY IDENTITY(1,1),\r\n",
                "name varchar(50),\r\n",
                "description varchar(50),\r\n",
                "recipe varchar(5000));"
            ],
            "metadata": {
                "azdata_cell_guid": "d9238911-6f81-4f01-980d-b584307effaf",
                "language": "sql"
            },
            "outputs": [
                {
                    "output_type": "display_data",
                    "data": {
                        "text/html": "Commands completed successfully."
                    },
                    "metadata": {}
                },
                {
                    "output_type": "display_data",
                    "data": {
                        "text/html": "Total execution time: 00:00:00.050"
                    },
                    "metadata": {}
                }
            ],
            "execution_count": 1
        },
        {
            "cell_type": "markdown",
            "source": [
                "Add three rows to your table that are your planned makes."
            ],
            "metadata": {
                "azdata_cell_guid": "83cdf34d-8c4f-4fa1-a14e-77384b19d734"
            }
        },
        {
            "cell_type": "code",
            "source": [
                "INSERT into JunkDB_STL_May2023.haritha.planned_makes\r\n",
                "VALUES('Dal','main course','Boiled Toor Dal seasoned with salt and mustard seed tempering');\r\n",
                "INSERT into JunkDB_STL_May2023.haritha.planned_makes\r\n",
                "VALUES ('Potato Fry','main course','Pan fried baby potatoes seasoned with salt and paprika');\r\n",
                "INSERT into JunkDB_STL_May2023.haritha.planned_makes\r\n",
                "VALUES ('Rice pudding','dessert','rice cooked in milk and seasoned with sugar');\r\n",
                "select * from JunkDB_STL_May2023.haritha.planned_makes;"
            ],
            "metadata": {
                "azdata_cell_guid": "e7cff9cb-87ba-4c7b-98f2-eaf445e8719c",
                "language": "sql"
            },
            "outputs": [
                {
                    "output_type": "display_data",
                    "data": {
                        "text/html": "(1 row affected)"
                    },
                    "metadata": {}
                },
                {
                    "output_type": "display_data",
                    "data": {
                        "text/html": "(1 row affected)"
                    },
                    "metadata": {}
                },
                {
                    "output_type": "display_data",
                    "data": {
                        "text/html": "(1 row affected)"
                    },
                    "metadata": {}
                },
                {
                    "output_type": "display_data",
                    "data": {
                        "text/html": "(6 rows affected)"
                    },
                    "metadata": {}
                },
                {
                    "output_type": "display_data",
                    "data": {
                        "text/html": "Total execution time: 00:00:00.084"
                    },
                    "metadata": {}
                },
                {
                    "output_type": "execute_result",
                    "metadata": {},
                    "execution_count": 3,
                    "data": {
                        "application/vnd.dataresource+json": {
                            "schema": {
                                "fields": [
                                    {
                                        "name": "id"
                                    },
                                    {
                                        "name": "name"
                                    },
                                    {
                                        "name": "description"
                                    },
                                    {
                                        "name": "recipe"
                                    }
                                ]
                            },
                            "data": [
                                {
                                    "id": "1",
                                    "name": "Dal",
                                    "description": "main course",
                                    "recipe": "Boiled Toor Dal seasoned with salt and mustard seed tempering"
                                },
                                {
                                    "id": "2",
                                    "name": "Potato Fry",
                                    "description": "main course",
                                    "recipe": "Pan fried baby potatoes seasoned with salt and paprika"
                                },
                                {
                                    "id": "3",
                                    "name": "Rice pudding",
                                    "description": "dessert",
                                    "recipe": "rice cooked in milk and seasoned with sugar"
                                },
                                {
                                    "id": "4",
                                    "name": "Dal",
                                    "description": "main course",
                                    "recipe": "Boiled Toor Dal seasoned with salt and mustard seed tempering"
                                },
                                {
                                    "id": "5",
                                    "name": "Potato Fry",
                                    "description": "main course",
                                    "recipe": "Pan fried baby potatoes seasoned with salt and paprika"
                                },
                                {
                                    "id": "6",
                                    "name": "Rice pudding",
                                    "description": "dessert",
                                    "recipe": "rice cooked in milk and seasoned with sugar"
                                }
                            ]
                        },
                        "text/html": [
                            "<table>",
                            "<tr><th>id</th><th>name</th><th>description</th><th>recipe</th></tr>",
                            "<tr><td>1</td><td>Dal</td><td>main course</td><td>Boiled Toor Dal seasoned with salt and mustard seed tempering</td></tr>",
                            "<tr><td>2</td><td>Potato Fry</td><td>main course</td><td>Pan fried baby potatoes seasoned with salt and paprika</td></tr>",
                            "<tr><td>3</td><td>Rice pudding</td><td>dessert</td><td>rice cooked in milk and seasoned with sugar</td></tr>",
                            "<tr><td>4</td><td>Dal</td><td>main course</td><td>Boiled Toor Dal seasoned with salt and mustard seed tempering</td></tr>",
                            "<tr><td>5</td><td>Potato Fry</td><td>main course</td><td>Pan fried baby potatoes seasoned with salt and paprika</td></tr>",
                            "<tr><td>6</td><td>Rice pudding</td><td>dessert</td><td>rice cooked in milk and seasoned with sugar</td></tr>",
                            "</table>"
                        ]
                    }
                }
            ],
            "execution_count": 3
        },
        {
            "cell_type": "markdown",
            "source": [
                "## Update a Row\n",
                "\n",
                "Change different values in one of your three rows."
            ],
            "metadata": {
                "azdata_cell_guid": "4a39b8d4-ae97-4e09-8336-c5fc6a00d76c"
            },
            "attachments": {}
        },
        {
            "cell_type": "code",
            "source": [
                "UPDATE JunkDB_STL_May2023.haritha.planned_makes\r\n",
                "SET description ='soup' WHERE name='Dal';\r\n",
                "\r\n",
                "select * from JunkDB_STL_May2023.haritha.planned_makes;"
            ],
            "metadata": {
                "azdata_cell_guid": "7409c695-9581-4ad8-b03a-574d2c4c87cb",
                "language": "sql"
            },
            "outputs": [
                {
                    "output_type": "display_data",
                    "data": {
                        "text/html": "(2 rows affected)"
                    },
                    "metadata": {}
                },
                {
                    "output_type": "display_data",
                    "data": {
                        "text/html": "(6 rows affected)"
                    },
                    "metadata": {}
                },
                {
                    "output_type": "display_data",
                    "data": {
                        "text/html": "Total execution time: 00:00:00.069"
                    },
                    "metadata": {}
                },
                {
                    "output_type": "execute_result",
                    "metadata": {},
                    "execution_count": 4,
                    "data": {
                        "application/vnd.dataresource+json": {
                            "schema": {
                                "fields": [
                                    {
                                        "name": "id"
                                    },
                                    {
                                        "name": "name"
                                    },
                                    {
                                        "name": "description"
                                    },
                                    {
                                        "name": "recipe"
                                    }
                                ]
                            },
                            "data": [
                                {
                                    "id": "1",
                                    "name": "Dal",
                                    "description": "soup",
                                    "recipe": "Boiled Toor Dal seasoned with salt and mustard seed tempering"
                                },
                                {
                                    "id": "2",
                                    "name": "Potato Fry",
                                    "description": "main course",
                                    "recipe": "Pan fried baby potatoes seasoned with salt and paprika"
                                },
                                {
                                    "id": "3",
                                    "name": "Rice pudding",
                                    "description": "dessert",
                                    "recipe": "rice cooked in milk and seasoned with sugar"
                                },
                                {
                                    "id": "4",
                                    "name": "Dal",
                                    "description": "soup",
                                    "recipe": "Boiled Toor Dal seasoned with salt and mustard seed tempering"
                                },
                                {
                                    "id": "5",
                                    "name": "Potato Fry",
                                    "description": "main course",
                                    "recipe": "Pan fried baby potatoes seasoned with salt and paprika"
                                },
                                {
                                    "id": "6",
                                    "name": "Rice pudding",
                                    "description": "dessert",
                                    "recipe": "rice cooked in milk and seasoned with sugar"
                                }
                            ]
                        },
                        "text/html": [
                            "<table>",
                            "<tr><th>id</th><th>name</th><th>description</th><th>recipe</th></tr>",
                            "<tr><td>1</td><td>Dal</td><td>soup</td><td>Boiled Toor Dal seasoned with salt and mustard seed tempering</td></tr>",
                            "<tr><td>2</td><td>Potato Fry</td><td>main course</td><td>Pan fried baby potatoes seasoned with salt and paprika</td></tr>",
                            "<tr><td>3</td><td>Rice pudding</td><td>dessert</td><td>rice cooked in milk and seasoned with sugar</td></tr>",
                            "<tr><td>4</td><td>Dal</td><td>soup</td><td>Boiled Toor Dal seasoned with salt and mustard seed tempering</td></tr>",
                            "<tr><td>5</td><td>Potato Fry</td><td>main course</td><td>Pan fried baby potatoes seasoned with salt and paprika</td></tr>",
                            "<tr><td>6</td><td>Rice pudding</td><td>dessert</td><td>rice cooked in milk and seasoned with sugar</td></tr>",
                            "</table>"
                        ]
                    }
                }
            ],
            "execution_count": 4
        },
        {
            "cell_type": "markdown",
            "source": [
                "## Delete a Row\n",
                "\n",
                "Delete one of the rows from your table."
            ],
            "metadata": {
                "azdata_cell_guid": "95e91a6e-9038-42d9-9401-5738842aba17"
            }
        },
        {
            "cell_type": "code",
            "source": [
                "DELETE from JunkDB_STL_May2023.haritha.planned_makes WHERE id=6;\r\n",
                "SELECT * from JunkDB_STL_May2023.haritha.planned_makes;"
            ],
            "metadata": {
                "azdata_cell_guid": "749c748f-19b5-4c69-9004-b6b20216616a",
                "language": "sql"
            },
            "outputs": [
                {
                    "output_type": "display_data",
                    "data": {
                        "text/html": "(1 row affected)"
                    },
                    "metadata": {}
                },
                {
                    "output_type": "display_data",
                    "data": {
                        "text/html": "(5 rows affected)"
                    },
                    "metadata": {}
                },
                {
                    "output_type": "display_data",
                    "data": {
                        "text/html": "Total execution time: 00:00:00.045"
                    },
                    "metadata": {}
                },
                {
                    "output_type": "execute_result",
                    "metadata": {},
                    "execution_count": 5,
                    "data": {
                        "application/vnd.dataresource+json": {
                            "schema": {
                                "fields": [
                                    {
                                        "name": "id"
                                    },
                                    {
                                        "name": "name"
                                    },
                                    {
                                        "name": "description"
                                    },
                                    {
                                        "name": "recipe"
                                    }
                                ]
                            },
                            "data": [
                                {
                                    "id": "1",
                                    "name": "Dal",
                                    "description": "soup",
                                    "recipe": "Boiled Toor Dal seasoned with salt and mustard seed tempering"
                                },
                                {
                                    "id": "2",
                                    "name": "Potato Fry",
                                    "description": "main course",
                                    "recipe": "Pan fried baby potatoes seasoned with salt and paprika"
                                },
                                {
                                    "id": "3",
                                    "name": "Rice pudding",
                                    "description": "dessert",
                                    "recipe": "rice cooked in milk and seasoned with sugar"
                                },
                                {
                                    "id": "4",
                                    "name": "Dal",
                                    "description": "soup",
                                    "recipe": "Boiled Toor Dal seasoned with salt and mustard seed tempering"
                                },
                                {
                                    "id": "5",
                                    "name": "Potato Fry",
                                    "description": "main course",
                                    "recipe": "Pan fried baby potatoes seasoned with salt and paprika"
                                }
                            ]
                        },
                        "text/html": [
                            "<table>",
                            "<tr><th>id</th><th>name</th><th>description</th><th>recipe</th></tr>",
                            "<tr><td>1</td><td>Dal</td><td>soup</td><td>Boiled Toor Dal seasoned with salt and mustard seed tempering</td></tr>",
                            "<tr><td>2</td><td>Potato Fry</td><td>main course</td><td>Pan fried baby potatoes seasoned with salt and paprika</td></tr>",
                            "<tr><td>3</td><td>Rice pudding</td><td>dessert</td><td>rice cooked in milk and seasoned with sugar</td></tr>",
                            "<tr><td>4</td><td>Dal</td><td>soup</td><td>Boiled Toor Dal seasoned with salt and mustard seed tempering</td></tr>",
                            "<tr><td>5</td><td>Potato Fry</td><td>main course</td><td>Pan fried baby potatoes seasoned with salt and paprika</td></tr>",
                            "</table>"
                        ]
                    }
                }
            ],
            "execution_count": 5
        },
        {
            "cell_type": "markdown",
            "source": [
                "## Drop the Table\n",
                "\n",
                "While this has been fun, it is time to drop the table!"
            ],
            "metadata": {
                "azdata_cell_guid": "2239cb09-137b-4579-905b-1aa020793181"
            },
            "attachments": {}
        },
        {
            "cell_type": "code",
            "source": [
                "DROP TABLE JunkDB_STL_May2023.haritha.planned_makes;\r\n",
                "select * from JunkDB_STL_May2023.haritha.planned_makes;"
            ],
            "metadata": {
                "azdata_cell_guid": "b3c7f6ea-ee26-46b3-9c2a-2f7a82c39699",
                "language": "sql"
            },
            "outputs": [
                {
                    "output_type": "error",
                    "evalue": "Msg 3701, Level 11, State 5, Line 1\r\nCannot drop the table 'JunkDB_STL_May2023.haritha.planned_makes', because it does not exist or you do not have permission.",
                    "ename": "",
                    "traceback": []
                },
                {
                    "output_type": "display_data",
                    "data": {
                        "text/html": "Total execution time: 00:00:00.042"
                    },
                    "metadata": {}
                }
            ],
            "execution_count": 7
        }
    ]
}